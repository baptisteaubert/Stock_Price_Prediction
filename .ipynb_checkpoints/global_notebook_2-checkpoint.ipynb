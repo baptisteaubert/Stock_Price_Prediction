{
 "cells": [
  {
   "cell_type": "markdown",
   "metadata": {},
   "source": [
    "# Import Data fo NLP \n"
   ]
  },
  {
   "cell_type": "markdown",
   "metadata": {},
   "source": [
    "# Scrap SEC"
   ]
  },
  {
   "cell_type": "code",
   "execution_count": 1,
   "metadata": {},
   "outputs": [],
   "source": [
    "crs = open(\"companylist.txt\", \"r\")\n",
    "companies_dict = {}\n",
    "for raw in crs:\n",
    "    companies_dict[raw.strip().split()[0]] = raw.strip().split()[1]"
   ]
  },
  {
   "cell_type": "code",
   "execution_count": 2,
   "metadata": {},
   "outputs": [],
   "source": [
    "#le resultat qu'on veut c'est une collection 10-K avec {company:AAPL, date:2015, 10-K:super Iphone mais Ipod en baisse}\n",
    "#Shema de la base: base: SEC_Data, 10-K et 5-K sont des collections, chaque doc contient date, company, report \n",
    "\n",
    "#working for Apple, Micorosft, Google, Amazone, facebook, Berkshire, United Heatlh, Intel, Home Depot, \n",
    "#Not working for Ebay, IBM (not present), JP (split in different pages), Johnson (le premier c Item et en dessous les nombres\n",
    "#Not Exon (reference to other part), BAML (trois Itm7.), Wells Fargo  (un seul), Visa (le premier  c Item 7), \n",
    "#Not Chevron Pfizer: (reference), AT&T (reference), Verizon Reference\n",
    "import os \n",
    "import sys\n",
    "import re\n",
    "from pymongo import MongoClient\n",
    "import requests\n",
    "from bs4 import BeautifulSoup\n",
    "\n",
    "class SecCrawler():\n",
    "\n",
    "    def __init__(self, company, limit_year):\n",
    "        client = MongoClient('localhost', 27017)\n",
    "        self.company = company\n",
    "        self.db = client['SEC_Datas_2']\n",
    "        self.collection = self.db[company]\n",
    "        self.correspondance = companies_dict\n",
    "        self.limit = limit_year\n",
    "                    \n",
    "    def get_10ks(self, max_date, count, company):\n",
    "        count=100\n",
    "        cik = self.correspondance[company]\n",
    "        base_url = \"http://www.sec.gov/cgi-bin/browse-edgar?action=getcompany&CIK=\"+str(cik)+\"&type=10-K&dateb=\"+str(max_date)+\"&owner=exclude&output=xml&count=\"+str(count)+'&output=xml'\n",
    "        print(base_url)\n",
    "        r = requests.get(base_url)\n",
    "        data = r.text\n",
    "        soup = BeautifulSoup(data,\"html5lib\")\n",
    "        link_list=[] \n",
    "        \n",
    "        for link in soup.find_all('filinghref'):\n",
    "            URL = link.string\n",
    "            link_list.append(URL) \n",
    "        self.link_list = link_list\n",
    "        \n",
    "    def save_in_mongoDB(self):\n",
    "        for year_links in self.link_list:\n",
    "            date, K_10_link = get_K_10_link(year_links)\n",
    "            print(K_10_link)\n",
    "            print(date)\n",
    "            if int(date[0:4]) < self.limit:\n",
    "                print('DATE IS ' + date + \"we STOP\")\n",
    "                break\n",
    "                \n",
    "            r=requests.get(K_10_link)\n",
    "            data = r.text\n",
    "            soup = BeautifulSoup(data,\"html5lib\")\n",
    "            \n",
    "            text = soup.getText(strip=True)\n",
    "            self.collection.insert_one({'date':date, '10_K':text})\n",
    "\n",
    "    \n",
    "def get_K_10_link(documents_link):\n",
    "    r = requests.get(documents_link)\n",
    "    data = r.text\n",
    "    soup = BeautifulSoup(data,\"html5lib\")\n",
    "    date = soup.findAll('div',{'class':'info'})[0].text\n",
    "    tables = soup.findAll('table')\n",
    "    table = tables[0]\n",
    "    K_10_link = 'http://www.sec.gov/'+table.find('tr').nextSibling.nextSibling.find('td').nextSibling.nextSibling.nextSibling.nextSibling.find('a')['href']\n",
    "    return date, K_10_link\n"
   ]
  },
  {
   "cell_type": "code",
   "execution_count": null,
   "metadata": {},
   "outputs": [
    {
     "name": "stdout",
     "output_type": "stream",
     "text": [
      "AAPL\n",
      "http://www.sec.gov/cgi-bin/browse-edgar?action=getcompany&CIK=0000320193&type=10-K&dateb=2018&owner=exclude&output=xml&count=100&output=xml\n",
      "http://www.sec.gov//Archives/edgar/data/320193/000032019317000070/a10-k20179302017.htm\n",
      "2017-11-03\n",
      "http://www.sec.gov//Archives/edgar/data/320193/000162828016020309/a201610-k9242016.htm\n",
      "2016-10-26\n",
      "http://www.sec.gov//Archives/edgar/data/320193/000119312515356351/d17062d10k.htm\n",
      "2015-10-28\n",
      "http://www.sec.gov//Archives/edgar/data/320193/000119312514383437/d783162d10k.htm\n",
      "2014-10-27\n",
      "DATE IS 2014-10-27we STOP\n",
      "ACN\n",
      "http://www.sec.gov/cgi-bin/browse-edgar?action=getcompany&CIK=00001467373&type=10-K&dateb=2018&owner=exclude&output=xml&count=100&output=xml\n",
      "http://www.sec.gov//Archives/edgar/data/1467373/000146737317000430/acn831201710k.htm\n",
      "2017-10-26\n",
      "http://www.sec.gov//Archives/edgar/data/1467373/000146737316001080/acn831201610k.htm\n",
      "2016-10-28\n",
      "http://www.sec.gov//Archives/edgar/data/1467373/000146737315000457/acn831201510k.htm\n",
      "2015-10-30\n",
      "http://www.sec.gov//Archives/edgar/data/1467373/000146737314000467/acn831201410k.htm\n",
      "2014-10-24\n",
      "DATE IS 2014-10-24we STOP\n",
      "ADBE\n",
      "http://www.sec.gov/cgi-bin/browse-edgar?action=getcompany&CIK=0000796343&type=10-K&dateb=2018&owner=exclude&output=xml&count=100&output=xml\n",
      "http://www.sec.gov//Archives/edgar/data/796343/000079634318000015/adbe10kfy17.htm\n",
      "2018-01-22\n",
      "http://www.sec.gov//Archives/edgar/data/796343/000079634317000031/adbe10kfy16.htm\n",
      "2017-01-20\n",
      "http://www.sec.gov//Archives/edgar/data/796343/000079634316000224/adbe10kfy15.htm\n",
      "2016-01-19\n",
      "http://www.sec.gov//Archives/edgar/data/796343/000079634315000022/adbe10kfy14.htm\n",
      "2015-01-20\n",
      "http://www.sec.gov//Archives/edgar/data/796343/000079634314000004/adbe10kfy13.htm\n",
      "2014-01-21\n",
      "DATE IS 2014-01-21we STOP\n",
      "AMD\n",
      "http://www.sec.gov/cgi-bin/browse-edgar?action=getcompany&CIK=0000002488&type=10-K&dateb=2018&owner=exclude&output=xml&count=100&output=xml\n",
      "http://www.sec.gov//Archives/edgar/data/2488/000000248818000042/amd-12302017x10k.htm\n",
      "2018-02-27\n",
      "http://www.sec.gov//Archives/edgar/data/2488/000000248817000043/amd-12312016x10k.htm\n",
      "2017-02-21\n",
      "http://www.sec.gov//Archives/edgar/data/2488/000000248816000111/amd-12262015x10k.htm\n",
      "2016-02-18\n",
      "http://www.sec.gov//Archives/edgar/data/2488/000119312515054362/d871455d10k.htm\n",
      "2015-02-19\n",
      "http://www.sec.gov//Archives/edgar/data/2488/000119312514057240/d674550d10k.htm\n",
      "2014-02-18\n",
      "DATE IS 2014-02-18we STOP\n",
      "AKAM\n",
      "http://www.sec.gov/cgi-bin/browse-edgar?action=getcompany&CIK=0001086222&type=10-K&dateb=2018&owner=exclude&output=xml&count=100&output=xml\n",
      "http://www.sec.gov//Archives/edgar/data/1086222/000108622218000052/akam10k123117.htm\n",
      "2018-03-01\n",
      "http://www.sec.gov//Archives/edgar/data/1086222/000108622217000080/akam10k123116.htm\n",
      "2017-02-28\n",
      "http://www.sec.gov//Archives/edgar/data/1086222/000108622216000245/akam10k123115.htm\n",
      "2016-02-29\n",
      "http://www.sec.gov//Archives/edgar/data/1086222/000108622215000074/a2014form10-ka.htm\n",
      "2015-03-16\n",
      "http://www.sec.gov//Archives/edgar/data/1086222/000108622215000066/akam10k123114.htm\n",
      "2015-03-02\n",
      "http://www.sec.gov//Archives/edgar/data/1086222/000154256714000009/akam10k123113.htm\n",
      "2014-03-03\n",
      "DATE IS 2014-03-03we STOP\n",
      "ALTR\n",
      "http://www.sec.gov/cgi-bin/browse-edgar?action=getcompany&CIK=0000768251&type=10-K&dateb=2018&owner=exclude&output=xml&count=100&output=xml\n",
      "http://www.sec.gov//Archives/edgar/data/768251/000076825115000008/altera10k12312014.htm\n",
      "2015-02-13\n",
      "http://www.sec.gov//Archives/edgar/data/768251/000076825114000008/altera10k12312013.htm\n",
      "2014-02-14\n",
      "DATE IS 2014-02-14we STOP\n",
      "ADI\n",
      "http://www.sec.gov/cgi-bin/browse-edgar?action=getcompany&CIK=0000006281&type=10-K&dateb=2018&owner=exclude&output=xml&count=100&output=xml\n",
      "http://www.sec.gov//Archives/edgar/data/6281/000000628117000144/adi-10282017x10k.htm\n",
      "2017-11-22\n",
      "http://www.sec.gov//Archives/edgar/data/6281/000000628116000097/adi-10292016x10k.htm\n",
      "2016-11-22\n",
      "http://www.sec.gov//Archives/edgar/data/6281/000000628115000044/adi-10312015x10k.htm\n",
      "2015-11-24\n",
      "http://www.sec.gov//Archives/edgar/data/6281/000000628114000039/adi-1112014x10k.htm\n",
      "2014-12-10\n",
      "DATE IS 2014-12-10we STOP\n",
      "ADSK\n",
      "http://www.sec.gov/cgi-bin/browse-edgar?action=getcompany&CIK=0000769397&type=10-K&dateb=2018&owner=exclude&output=xml&count=100&output=xml\n",
      "http://www.sec.gov//ix?doc=/Archives/edgar/data/769397/000076939718000011/adsk-0131201810xk.htm\n",
      "2018-03-22\n",
      "http://www.sec.gov//Archives/edgar/data/769397/000076939717000014/adsk-0131201710xk.htm\n",
      "2017-03-21\n",
      "http://www.sec.gov//Archives/edgar/data/769397/000076939716000067/adsk-0131201610xk.htm\n",
      "2016-03-23\n",
      "http://www.sec.gov//Archives/edgar/data/769397/000076939715000012/adsk-0131201510xk.htm\n",
      "2015-03-18\n",
      "http://www.sec.gov//Archives/edgar/data/769397/000076939714000018/adsk-0131201410xk.htm\n",
      "2014-03-10\n",
      "DATE IS 2014-03-10we STOP\n",
      "ADP\n",
      "http://www.sec.gov/cgi-bin/browse-edgar?action=getcompany&CIK=0000008670&type=10-K&dateb=2018&owner=exclude&output=xml&count=100&output=xml\n",
      "http://www.sec.gov//Archives/edgar/data/8670/000000867018000011/q4fy1810k.htm\n",
      "2018-08-03\n",
      "http://www.sec.gov//Archives/edgar/data/8670/000000867017000010/q4fy1710k.htm\n",
      "2017-08-04\n",
      "http://www.sec.gov//Archives/edgar/data/8670/000000867016000053/q4fy1610kinq4fy16.htm\n",
      "2016-08-05\n",
      "http://www.sec.gov//Archives/edgar/data/8670/000000867015000021/q4fy1510k.htm\n",
      "2015-08-07\n",
      "http://www.sec.gov//Archives/edgar/data/8670/000000867014000015/q4fy1410k.htm\n",
      "2014-08-08\n",
      "DATE IS 2014-08-08we STOP\n",
      "BRCM\n",
      "http://www.sec.gov/cgi-bin/browse-edgar?action=getcompany&CIK=0001054374&type=10-K&dateb=2018&owner=exclude&output=xml&count=100&output=xml\n",
      "http://www.sec.gov//Archives/edgar/data/1054374/000105437415000012/a20141231-10k.htm\n",
      "2015-01-29\n",
      "http://www.sec.gov//Archives/edgar/data/1054374/000105437414000012/brcm-20131231x10k.htm\n",
      "2014-01-30\n",
      "DATE IS 2014-01-30we STOP\n",
      "CA\n",
      "http://www.sec.gov/cgi-bin/browse-edgar?action=getcompany&CIK=0001314355&type=10-K&dateb=2018&owner=exclude&output=xml&count=100&output=xml\n",
      "CSCO\n",
      "http://www.sec.gov/cgi-bin/browse-edgar?action=getcompany&CIK=0000858877&type=10-K&dateb=2018&owner=exclude&output=xml&count=100&output=xml\n",
      "http://www.sec.gov//Archives/edgar/data/858877/000085887717000016/csco-2017729x10k.htm\n",
      "2017-09-07\n",
      "http://www.sec.gov//Archives/edgar/data/858877/000085887716000117/csco-2016730x10k.htm\n",
      "2016-09-08\n",
      "http://www.sec.gov//Archives/edgar/data/858877/000085887715000070/csco-2015725x10k.htm\n",
      "2015-09-08\n",
      "http://www.sec.gov//Archives/edgar/data/858877/000085887714000029/csco-2014726x10k.htm\n",
      "2014-09-09\n",
      "DATE IS 2014-09-09we STOP\n",
      "CTXS\n",
      "http://www.sec.gov/cgi-bin/browse-edgar?action=getcompany&CIK=0000877890&type=10-K&dateb=2018&owner=exclude&output=xml&count=100&output=xml\n",
      "http://www.sec.gov//Archives/edgar/data/877890/000087789018000025/ctxs12-31x201710xk.htm\n",
      "2018-02-16\n",
      "http://www.sec.gov//Archives/edgar/data/877890/000087789017000033/citrix201610-ka.htm\n",
      "2017-02-21\n",
      "http://www.sec.gov//Archives/edgar/data/877890/000087789017000030/ctxs12-31x201610xk.htm\n",
      "2017-02-16\n",
      "http://www.sec.gov//Archives/edgar/data/877890/000087789016000184/ctxs12-31x201510xk.htm\n",
      "2016-02-18\n",
      "http://www.sec.gov//Archives/edgar/data/877890/000087789015000016/ctxs12-31x201410xk.htm\n",
      "2015-02-19\n",
      "http://www.sec.gov//Archives/edgar/data/877890/000087789014000007/ctxs12-31x201310xk.htm\n",
      "2014-02-20\n",
      "DATE IS 2014-02-20we STOP\n",
      "DELL\n",
      "http://www.sec.gov/cgi-bin/browse-edgar?action=getcompany&CIK=0000826083&type=10-K&dateb=2018&owner=exclude&output=xml&count=100&output=xml\n",
      "http://www.sec.gov//Archives/edgar/data/826083/000082608313000014/dell10-kafy2013.htm\n",
      "2013-06-03\n",
      "DATE IS 2013-06-03we STOP\n",
      "EBAY\n",
      "http://www.sec.gov/cgi-bin/browse-edgar?action=getcompany&CIK=0001065088&type=10-K&dateb=2018&owner=exclude&output=xml&count=100&output=xml\n",
      "http://www.sec.gov//ix?doc=/Archives/edgar/data/1065088/000106508818000009/ebay201710-k.htm\n",
      "2018-02-05\n",
      "http://www.sec.gov//Archives/edgar/data/1065088/000106508817000007/ebay201610-k.htm\n",
      "2017-02-06\n",
      "http://www.sec.gov//Archives/edgar/data/1065088/000119312516470992/d138652d10ka.htm\n",
      "2016-02-22\n",
      "http://www.sec.gov//Archives/edgar/data/1065088/000106508816000265/ebay201510-k.htm\n",
      "2016-02-01\n"
     ]
    }
   ],
   "source": [
    "for company in companies_dict.keys():\n",
    "    print(company)\n",
    "    try : \n",
    "        SecCrawler_object = SecCrawler(company, 2015)\n",
    "        SecCrawler_object.get_10ks(2018, 1000, company)\n",
    "        SecCrawler_object.save_in_mongoDB()\n",
    "    except:\n",
    "        next"
   ]
  },
  {
   "cell_type": "code",
   "execution_count": null,
   "metadata": {},
   "outputs": [],
   "source": [
    "#Load one element from Mongo and LSTM celui la sur le retour du jour ouvré suivant \n"
   ]
  },
  {
   "cell_type": "code",
   "execution_count": 17,
   "metadata": {},
   "outputs": [
    {
     "name": "stdout",
     "output_type": "stream",
     "text": [
      "caca\n"
     ]
    }
   ],
   "source": [
    "print('caca')"
   ]
  },
  {
   "cell_type": "code",
   "execution_count": 18,
   "metadata": {},
   "outputs": [],
   "source": [
    "import os \n",
    "import sys\n",
    "import re\n",
    "from pymongo import MongoClient\n",
    "import requests\n",
    "from bs4 import BeautifulSoup\n",
    "client = MongoClient('localhost', 27017)\n"
   ]
  },
  {
   "cell_type": "code",
   "execution_count": 19,
   "metadata": {},
   "outputs": [],
   "source": [
    "db = client['SEC_Datas_2']"
   ]
  },
  {
   "cell_type": "code",
   "execution_count": 20,
   "metadata": {},
   "outputs": [],
   "source": [
    "db = client['SEC_Datas_2']\n",
    "collection = db.AAPL\n",
    "cursor = collection.find()"
   ]
  },
  {
   "cell_type": "code",
   "execution_count": 21,
   "metadata": {},
   "outputs": [],
   "source": []
  },
  {
   "cell_type": "code",
   "execution_count": 22,
   "metadata": {},
   "outputs": [
    {
     "data": {
      "text/plain": [
       "pymongo.cursor.Cursor"
      ]
     },
     "execution_count": 22,
     "metadata": {},
     "output_type": "execute_result"
    }
   ],
   "source": [
    "type(cursor)"
   ]
  },
  {
   "cell_type": "code",
   "execution_count": 11,
   "metadata": {},
   "outputs": [
    {
     "name": "stderr",
     "output_type": "stream",
     "text": [
      "IOPub data rate exceeded.\n",
      "The notebook server will temporarily stop sending output\n",
      "to the client in order to avoid crashing it.\n",
      "To change this limit, set the config variable\n",
      "`--NotebookApp.iopub_data_rate_limit`.\n",
      "\n",
      "Current values:\n",
      "NotebookApp.iopub_data_rate_limit=1000000.0 (bytes/sec)\n",
      "NotebookApp.rate_limit_window=3.0 (secs)\n",
      "\n"
     ]
    }
   ],
   "source": [
    "for doc in cursor:\n",
    "    print(doc)"
   ]
  },
  {
   "cell_type": "code",
   "execution_count": 13,
   "metadata": {},
   "outputs": [
    {
     "data": {
      "text/plain": [
       "pymongo.cursor.Cursor"
      ]
     },
     "execution_count": 13,
     "metadata": {},
     "output_type": "execute_result"
    }
   ],
   "source": [
    "type(cursor)"
   ]
  },
  {
   "cell_type": "code",
   "execution_count": null,
   "metadata": {},
   "outputs": [
    {
     "name": "stdout",
     "output_type": "stream",
     "text": [
      "\u001b[32m[I 21:41:34.560 NotebookApp]\u001b[m The port 8888 is already in use, trying another port.\n",
      "\u001b[32m[I 21:41:34.561 NotebookApp]\u001b[m The port 8889 is already in use, trying another port.\n",
      "\u001b[32m[I 21:41:34.584 NotebookApp]\u001b[m Serving notebooks from local directory: /Users/baptisteaubert/Desktop/Perso/Stock_Price_Prediction/NLP\n",
      "\u001b[32m[I 21:41:34.584 NotebookApp]\u001b[m 0 active kernels\n",
      "\u001b[32m[I 21:41:34.584 NotebookApp]\u001b[m The Jupyter Notebook is running at:\n",
      "\u001b[32m[I 21:41:34.584 NotebookApp]\u001b[m http://localhost:8890/?token=c401714a902e914fbfa1274017a983bcecff194414f9f7c7\n",
      "\u001b[32m[I 21:41:34.584 NotebookApp]\u001b[m Use Control-C to stop this server and shut down all kernels (twice to skip confirmation).\n",
      "[C 21:41:34.585 NotebookApp] \n",
      "    \n",
      "    Copy/paste this URL into your browser when you connect for the first time,\n",
      "    to login with a token:\n",
      "        http://localhost:8890/?token=c401714a902e914fbfa1274017a983bcecff194414f9f7c7\n",
      "\u001b[32m[I 21:41:34.801 NotebookApp]\u001b[m Accepting one-time-token-authenticated connection from ::1\n",
      "\u001b[32m[I 21:41:41.168 NotebookApp]\u001b[m Kernel started: 71d68fb4-3543-43d9-ab16-5cc7db0d7604\n",
      "\u001b[32m[I 21:41:42.155 NotebookApp]\u001b[m Adapting to protocol v5.1 for kernel 71d68fb4-3543-43d9-ab16-5cc7db0d7604\n",
      "\u001b[32m[I 21:42:07.471 NotebookApp]\u001b[m Starting buffering for 71d68fb4-3543-43d9-ab16-5cc7db0d7604:c26c0867421b41299c7e987b68bd8404\n"
     ]
    }
   ],
   "source": [
    "!jupyter notebook --NotebookApp.iopub_data_rate_limit=1.0e10"
   ]
  },
  {
   "cell_type": "code",
   "execution_count": null,
   "metadata": {},
   "outputs": [],
   "source": []
  },
  {
   "cell_type": "code",
   "execution_count": null,
   "metadata": {},
   "outputs": [],
   "source": []
  },
  {
   "cell_type": "code",
   "execution_count": null,
   "metadata": {},
   "outputs": [],
   "source": []
  },
  {
   "cell_type": "code",
   "execution_count": null,
   "metadata": {},
   "outputs": [],
   "source": []
  },
  {
   "cell_type": "code",
   "execution_count": null,
   "metadata": {},
   "outputs": [],
   "source": []
  },
  {
   "cell_type": "code",
   "execution_count": null,
   "metadata": {},
   "outputs": [],
   "source": []
  },
  {
   "cell_type": "code",
   "execution_count": null,
   "metadata": {},
   "outputs": [],
   "source": []
  },
  {
   "cell_type": "code",
   "execution_count": null,
   "metadata": {},
   "outputs": [],
   "source": []
  },
  {
   "cell_type": "code",
   "execution_count": null,
   "metadata": {},
   "outputs": [],
   "source": [
    "import os \n",
    "import sys\n",
    "import re\n",
    "from pymongo import MongoClient\n",
    "import requests\n",
    "from bs4 import BeautifulSoup"
   ]
  },
  {
   "cell_type": "code",
   "execution_count": null,
   "metadata": {},
   "outputs": [],
   "source": [
    "#le resultat qu'on veut c'est une collection 10-K avec {company:AAPL, date:2015, 10-K:super Iphone mais Ipod en baisse}\n",
    "#Shema de la base: base: SEC_Data, 10-K et 5-K sont des collections, chaque doc contient date, company, report \n",
    "\n",
    "#working for Apple, Micorosft, Google, Amazone, facebook, Berkshire, United Heatlh, Intel, Home Depot, \n",
    "#Not working for Ebay, IBM (not present), JP (split in different pages), Johnson (le premier c Item et en dessous les nombres\n",
    "#Not Exon (reference to other part), BAML (trois Itm7.), Wells Fargo  (un seul), Visa (le premier  c Item 7), \n",
    "#Not Chevron Pfizer: (reference), AT&T (reference), Verizon Reference\n",
    "import os \n",
    "import sys\n",
    "import re\n",
    "from pymongo import MongoClient\n",
    "import requests\n",
    "from bs4 import BeautifulSoup\n",
    "\n",
    "class SecCrawler():\n",
    "\n",
    "    def __init__(self, company):\n",
    "        client = MongoClient('localhost', 27017)\n",
    "        self.company = company\n",
    "        self.db = client['SEC_Datas']\n",
    "        self.collection = self.db[company]\n",
    "        self.correspondance = {'Apple':'0000320193', 'Microsoft':'0000789019', 'Google':'0001288776', 'IBM':'0000051143',\n",
    "                              'Amazone':'0001018724', 'ebay':'0001065088', 'STX':'0000354952', 'facebook':'0001326801', \n",
    "                              'J.P. Morgan':'0000019617', 'Berkshire Hath':'0001067983', 'Jhonson & Johnoson':'0000200406',\n",
    "                              'Exxon':'0000034088', 'BAML':'0000070858', 'Weels_Fargo':'0000072971', 'Visa':'0001403161',\n",
    "                              'United_Health':'0000731766', 'Chevron':'0000093410', 'Pfizer':'0000078003',\n",
    "                              'AT&T':'0000732717','Intel':'0000050863', 'Home_Depot':'0000354950', 'Verizon':'0000732712'}\n",
    "\n",
    "                    \n",
    "    def get_10ks(self, max_date, count, company):\n",
    "        count=100\n",
    "        cik = self.correspondance[self.company]\n",
    "        base_url = \"http://www.sec.gov/cgi-bin/browse-edgar?action=getcompany&CIK=\"+str(cik)+\"&type=10-K&dateb=\"+str(max_date)+\"&owner=exclude&output=xml&count=\"+str(count)+'&output=xml'\n",
    "        print(base_url)\n",
    "        r = requests.get(base_url)\n",
    "        data = r.text\n",
    "        soup = BeautifulSoup(data) \n",
    "        link_list=[] \n",
    "        \n",
    "        for link in soup.find_all('filinghref'):\n",
    "            URL = link.string\n",
    "            link_list.append(URL) \n",
    "        self.link_list = link_list\n",
    "        \n",
    "        \n",
    "    def save_in_mongoDB(self):\n",
    "        for year_links in self.link_list[:4]:\n",
    "            date, link_to_submission_file = getdate_and_submission_file_link(year_links)\n",
    "            #print(date, link_to_submission_file)\n",
    "            print('STOP')\n",
    "            r=requests.get(link_to_submission_file)\n",
    "            data = r.text\n",
    "            soup = BeautifulSoup(data)\n",
    "            \n",
    "            text = soup.getText(strip=True)\n",
    "            text_notag = re.sub(\"<.*?>\", \" \", text)\n",
    "            \n",
    "            #temp = re.split(\"I[a-zA-Z]{3}\\s+7[.:]\", text)[2]\n",
    "            #discussion = re.split(\"I[a-zA-Z]{3}\\s+8[.:]\", temp)[0]\n",
    "                        \n",
    "            self.collection.insert_one({'date':date, '10_K':text_notag})\n",
    "            print(date, text_notag)\n",
    "\n",
    "    \n",
    "def getdate_and_submission_file_link(documents_link):\n",
    "    r = requests.get(documents_link)\n",
    "    data = r.text\n",
    "    soup = BeautifulSoup(data)\n",
    "    tables = soup.findAll('table')\n",
    "    table = tables[0]\n",
    "    date = soup.findAll('div',{'class':'info'})[0].text[0:4]\n",
    "    submission_file_link = soup.findAll('table')[0](\"a\")[-1]['href']\n",
    "    submission_file_link = 'http://www.sec.gov/'+submission_file_link\n",
    "    return date, submission_file_link\n",
    "\n",
    "SecCrawler_object = SecCrawler('Microsoft')\n",
    "SecCrawler_object.get_10ks(2017, 100, 'Microsoft')\n",
    "SecCrawler_object.save_in_mongoDB()"
   ]
  },
  {
   "cell_type": "code",
   "execution_count": null,
   "metadata": {},
   "outputs": [],
   "source": [
    "url = 'https://www.sec.gov/Archives/edgar/data/320193/000032019317000070/a10-k20179302017.htm'\n",
    "res = requests.get(url)\n",
    "data = res.text\n"
   ]
  }
 ],
 "metadata": {
  "kernelspec": {
   "display_name": "Python 3",
   "language": "python",
   "name": "python3"
  },
  "language_info": {
   "codemirror_mode": {
    "name": "ipython",
    "version": 3
   },
   "file_extension": ".py",
   "mimetype": "text/x-python",
   "name": "python",
   "nbconvert_exporter": "python",
   "pygments_lexer": "ipython3",
   "version": "3.6.8"
  }
 },
 "nbformat": 4,
 "nbformat_minor": 2
}
